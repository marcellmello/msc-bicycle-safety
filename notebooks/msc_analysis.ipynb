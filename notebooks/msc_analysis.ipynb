{
  "cells": [
    {
      "cell_type": "markdown",
      "metadata": {
        "id": "mNXPSFXYWmR2"
      },
      "source": [
        "# <center> IoT Device on Bicycle Safety: a case study with an unsupervised clustering model to estimate hazardous areas </center>\n",
        "\n",
        "<center> MSc Analysis </center>\n",
        "<center> Universidade de Brasília (PPGT/UnB) </center>\n",
        "\n",
        "<center>MSc Candidate: <a href=\"https://www.linkedin.com/in/marcelmello/\" target=\"_blank\"> LinkedIn </a></center>\n",
        "<center> Curriculum: <a href=\"\" target=\"_blank\"> Lattes </a></center>"
      ]
    },
    {
      "cell_type": "markdown",
      "metadata": {
        "id": "bXmSHvM_749J"
      },
      "source": [
        "This research aimed to estimate hazardous areas for bicycle mobility by comparing unsupervised machine-learning algorithms based on an Internet of Things sensor device for data collection. The Lateral Passing Distance (LPD) data collected among bicycles and vehicles were related to a variate cyclist data. Some of this data includes bicycle velocity, curse elevation, global positioning system (GPS) coordinates, acceleration, and gyroscopic information through a naturalistic collection on the street."
      ]
    },
    {
      "cell_type": "code",
      "execution_count": null,
      "metadata": {
        "colab": {
          "base_uri": "https://localhost:8080/",
          "height": 57
        },
        "id": "l8wNJ7fhUfMW",
        "outputId": "0841afb9-080c-42f2-d4b3-f924be539e6c"
      },
      "outputs": [],
      "source": [
        "from IPython.display import HTML\n",
        "\n",
        "HTML('''<script>\n",
        "code_show=true;\n",
        "function code_toggle() {\n",
        " if (code_show){\n",
        " $('div.input').hide();\n",
        " } else {\n",
        " $('div.input').show();\n",
        " }\n",
        " code_show = !code_show\n",
        "}\n",
        "$( document ).ready(code_toggle);\n",
        "</script>\n",
        "<form action=\"javascript:code_toggle()\"><input type=\"submit\" value=\"Click here to toggle on/off the raw code.\"></form>''')"
      ]
    },
    {
      "cell_type": "markdown",
      "metadata": {
        "id": "rbyt075wLLSF"
      },
      "source": [
        "#Python Libraries"
      ]
    },
    {
      "cell_type": "code",
      "execution_count": null,
      "metadata": {
        "colab": {
          "base_uri": "https://localhost:8080/"
        },
        "id": "B6va2-X49qvH",
        "outputId": "83efdefd-6e88-4a90-fa51-5667d6d6e315"
      },
      "outputs": [],
      "source": [
        "import pandas as pd\n",
        "import numpy as np\n",
        "import seaborn as sns\n",
        "\n",
        "import matplotlib.pyplot as plt\n",
        "import matplotlib.colors as colors\n",
        "import plotly.express as px\n",
        "\n",
        "from sklearn.cluster import KMeans\n",
        "from sklearn.preprocessing import StandardScaler\n",
        "from sklearn.metrics import silhouette_score as ss\n",
        "from scipy import stats\n",
        "import scipy.stats as stats\n",
        "\n",
        "\n",
        "import geopandas as gpd\n",
        "import contextily #mapas estaticos\n",
        "import folium #mapas dinâmicos(html)\n",
        "from shapely.geometry import Point\n",
        "\n",
        "print('Python dependencies installed')"
      ]
    },
    {
      "cell_type": "code",
      "execution_count": null,
      "metadata": {
        "id": "EoEZMIPj_5U4"
      },
      "outputs": [],
      "source": [
        "df = pd.read_excel(\"/Users/marcelmello/Developer/MSc/park_analysis4_total.xlsx\")\n",
        "\n",
        "# df = pd.read_csv('')\n",
        "\n",
        "  #csv dando problema de encode"
      ]
    },
    {
      "cell_type": "markdown",
      "metadata": {
        "id": "FtyPLj4WDeFB"
      },
      "source": [
        "# Exploratory Data Analysis and Testing"
      ]
    },
    {
      "cell_type": "markdown",
      "metadata": {
        "id": "nB6yA_Y4yghE"
      },
      "source": [
        "Lateral Passing Distance Histogram with Kernel Density Estimation (KDE)"
      ]
    },
    {
      "cell_type": "code",
      "execution_count": null,
      "metadata": {
        "colab": {
          "base_uri": "https://localhost:8080/",
          "height": 653
        },
        "id": "265coZ_LEqfT",
        "outputId": "9735c1b5-e28f-4559-a7eb-20243e759c0c"
      },
      "outputs": [],
      "source": [
        "exp = df.copy()\n",
        "exp.rename(columns = {' us_lpd_left':'lpd'}, inplace = True)\n",
        "\n",
        "expkde = sns.distplot(exp['lpd'], bins=15)\n",
        "expkde.set_xlabel(\"Lateral Passing Distance (cm)\")"
      ]
    },
    {
      "cell_type": "code",
      "execution_count": null,
      "metadata": {
        "colab": {
          "base_uri": "https://localhost:8080/",
          "height": 653
        },
        "id": "4gbm13KLWclj",
        "outputId": "7cf91a11-c63f-4975-c33f-514778e04eb2"
      },
      "outputs": [],
      "source": [
        "expkde2 = sns.distplot(exp['speed'], bins=15)\n",
        "expkde2.set_xlabel(\"Speed (m/s)\")"
      ]
    },
    {
      "cell_type": "markdown",
      "metadata": {
        "id": "yUeYSMJpynKX"
      },
      "source": [
        "Relationship between Climb and LPD"
      ]
    },
    {
      "cell_type": "code",
      "execution_count": null,
      "metadata": {
        "colab": {
          "base_uri": "https://localhost:8080/",
          "height": 542
        },
        "id": "rS0-Xz-CEqV3",
        "outputId": "21be4f5e-e46f-42a5-d80a-2077c9272648"
      },
      "outputs": [],
      "source": [
        "# exp_climb_lpd = px.scatter(exp, x='lpd',y='climb', color='lpd')\n",
        "# exp_climb_lpd"
      ]
    },
    {
      "cell_type": "markdown",
      "metadata": {
        "id": "omS3-GNywDso"
      },
      "source": [
        "Percentage of values in ascending and downward movement regarding the threshold lateral clearance distance of 150cm.\n",
        "(LPD < 150cm uphill)"
      ]
    },
    {
      "cell_type": "code",
      "execution_count": null,
      "metadata": {
        "colab": {
          "base_uri": "https://localhost:8080/"
        },
        "id": "NzlceeCQMwFn",
        "outputId": "6a347196-924b-425a-d7b8-5291e5525fd0"
      },
      "outputs": [],
      "source": [
        "up = exp[(exp['climb'] > 0) & (exp['lpd'] < 150)].value_counts('lpd')\n",
        "down = exp[(exp['climb'] < 0) & (exp['lpd'] < 150)].value_counts('lpd')\n",
        "\n",
        "p = up.count()/down.count()\n",
        "(p-1)*100"
      ]
    },
    {
      "cell_type": "markdown",
      "metadata": {
        "id": "ApWOhXSdUMUR"
      },
      "source": [
        "When relating LPD to Climb and Speed, the following correlation was obtained by fitting a regression model to observe the resulting line on a 95% confidence interval. The LPD is on the y-axis, and the climb and speed data are on the x-axis."
      ]
    },
    {
      "cell_type": "code",
      "execution_count": null,
      "metadata": {
        "colab": {
          "base_uri": "https://localhost:8080/",
          "height": 440
        },
        "id": "ZsVGTMBCIIWo",
        "outputId": "5c7a976f-4d12-456a-c45d-855d851261cd"
      },
      "outputs": [],
      "source": [
        "sns.pairplot(exp, x_vars=[\"climb\", \"speed\"], y_vars=[\"lpd\"], height=5, aspect=.9, kind=\"reg\");"
      ]
    },
    {
      "cell_type": "markdown",
      "metadata": {
        "id": "-ha4-xZazOP8"
      },
      "source": [
        "Acceleration and Rotation correlation to LPD, fitting a regression model to observe the resulting line on a 95% confidence interval."
      ]
    },
    {
      "cell_type": "code",
      "execution_count": null,
      "metadata": {
        "colab": {
          "base_uri": "https://localhost:8080/",
          "height": 583
        },
        "id": "QfZ_kwHhIINq",
        "outputId": "c95110f5-a279-47fe-f811-9a261b947449"
      },
      "outputs": [],
      "source": [
        "sns.pairplot(exp, x_vars=[\"accez\",'accey',\"accex\"], y_vars=[\"lpd\"], height=4, aspect=.9, kind=\"reg\");\n",
        "sns.pairplot(exp, x_vars=[\"gyroz\",'gyroy',\"gyrox\"], y_vars=[\"lpd\"], height=4, aspect=.9, kind=\"reg\");"
      ]
    },
    {
      "cell_type": "code",
      "execution_count": null,
      "metadata": {
        "colab": {
          "base_uri": "https://localhost:8080/",
          "height": 583
        },
        "id": "lYNuSDvvIIEp",
        "outputId": "6b7e0810-aa8c-45d5-ed22-06647da887d6"
      },
      "outputs": [],
      "source": [
        "sns.pairplot(exp, x_vars=[\"accez\",'accey',\"accex\"], y_vars=[\"climb\"], height=4, aspect=.9, kind=\"reg\");\n",
        "sns.pairplot(exp, x_vars=[\"gyroz\",'gyroy',\"gyrox\"], y_vars=[\"climb\"], height=4, aspect=.9, kind=\"reg\");"
      ]
    },
    {
      "cell_type": "markdown",
      "metadata": {
        "id": "Cw7zVOLyjKvA"
      },
      "source": [
        "\n",
        "#Accident history - Geo Pandas"
      ]
    },
    {
      "cell_type": "code",
      "execution_count": null,
      "metadata": {
        "id": "4IRCU2jLv02l"
      },
      "outputs": [],
      "source": [
        "# import pandas as pd\n",
        "# geo = pd.read_excel('/Users/marcelmello/Developer/MSc/sinistrosbike_pdc.xlsx', engine='openpyxl')"
      ]
    },
    {
      "cell_type": "code",
      "execution_count": null,
      "metadata": {
        "colab": {
          "base_uri": "https://localhost:8080/",
          "height": 420
        },
        "id": "pRBY8ZsAv6K0",
        "outputId": "e17df2cf-2719-4977-ad2c-c0e5e93a4b55"
      },
      "outputs": [],
      "source": [
        "# geo.head(3)"
      ]
    },
    {
      "cell_type": "code",
      "execution_count": null,
      "metadata": {
        "id": "eV3-JzyrE0M7"
      },
      "outputs": [],
      "source": [
        "# import geopandas as gpd\n",
        "# geometry = [Point(xy) for xy in zip(geo['longitude'], geo['latitude'])]\n",
        "# geo_pdc = gpd.GeoDataFrame(geo, crs='EPSG:4326', geometry=geometry)\n",
        "\n",
        "  #crio uma coluna com pontos de longitude e latidude agrupados.\n",
        "  #tranformo o df em GeoDataFrame\n",
        "  #ajusto o sistema de coordenadas geo - EPSG:4326\n",
        "\n",
        "#geo_pdc = geo_pdc.to_crs(crs='EPSG:3857')\n",
        "#geo_pdc.crs.to_string()\n",
        "\n",
        "  #altero o sis de coordenadas geo para EPSG:3857 (trabalha em metros)\n",
        "  #confere crs"
      ]
    },
    {
      "cell_type": "code",
      "execution_count": null,
      "metadata": {
        "colab": {
          "base_uri": "https://localhost:8080/",
          "height": 584
        },
        "id": "SOckGzFkZLsu",
        "outputId": "5761afd3-5f02-4ada-9de4-03097f7f3173"
      },
      "outputs": [],
      "source": [
        "# geo_pdc.head()"
      ]
    },
    {
      "cell_type": "code",
      "execution_count": null,
      "metadata": {
        "id": "s_FOjUKxvtI1"
      },
      "outputs": [],
      "source": [
        "# geo_pdc = geo_pdc.to_crs(crs='EPSG:3857')\n",
        "  #altero o sis de coordenadas geo para EPSG:3857 (trabalha em metros)"
      ]
    },
    {
      "cell_type": "code",
      "execution_count": null,
      "metadata": {
        "colab": {
          "base_uri": "https://localhost:8080/",
          "height": 242
        },
        "id": "7bQ1BGrayCbA",
        "outputId": "37365d18-58c3-470a-afb3-58785f42dfa1"
      },
      "outputs": [],
      "source": [
        "# geo_pdc.crs.to_string()"
      ]
    },
    {
      "cell_type": "markdown",
      "metadata": {
        "id": "kDZBx9sdzrgK"
      },
      "source": [
        "Crashes visualization"
      ]
    },
    {
      "cell_type": "code",
      "execution_count": null,
      "metadata": {
        "colab": {
          "base_uri": "https://localhost:8080/",
          "height": 54
        },
        "id": "_Ud9sRFwvkMe",
        "outputId": "f18613ee-fe2d-4003-a3da-98fe61fde570"
      },
      "outputs": [],
      "source": [
        "# import matplotlib.pyplot as plt\n",
        "# ax = geo_pdc.plot(figsize=(15, 22), markersize=100, color='red', legend=True)\n",
        "# contextily.add_basemap(ax) #biblioteca que dá um contexto pro mapa (um fundo)\n",
        "# ax.set_axis_off()\n",
        "# plt.show()"
      ]
    },
    {
      "cell_type": "code",
      "execution_count": null,
      "metadata": {
        "colab": {
          "base_uri": "https://localhost:8080/"
        },
        "id": "R6JRJD2E0hYi",
        "outputId": "06c1b95e-3a04-4e8e-cc5b-8b37269846f9"
      },
      "outputs": [],
      "source": [
        "# pdc_folium = geo_pdc.copy()\n",
        "# accidents = pdc_folium[['latitude', 'longitude']]\n",
        "# locationlist = accidents.values.tolist()\n",
        "# len(locationlist)\n",
        "# locationlist[0]"
      ]
    },
    {
      "cell_type": "code",
      "execution_count": null,
      "metadata": {
        "id": "pxtW61g-2H_R"
      },
      "outputs": [],
      "source": [
        "# pdc_folium = pdc_folium.reset_index()"
      ]
    },
    {
      "cell_type": "markdown",
      "metadata": {
        "id": "A_o4zS3Z7d2Q"
      },
      "source": [
        "Crases visualization - Interative map"
      ]
    },
    {
      "cell_type": "code",
      "execution_count": null,
      "metadata": {
        "colab": {
          "base_uri": "https://localhost:8080/",
          "height": 231
        },
        "id": "kZCROhAhvkJm",
        "outputId": "b0e05ee5-5166-4430-b37c-51f0f2da4651"
      },
      "outputs": [],
      "source": [
        "# park_center = [-15.804051955,\t-47.90995495]\n",
        "# mapa = folium.Map(location=park_center, zoom_start=14)\n",
        "\n",
        "# for point in range(0, len(locationlist)):\n",
        "#     folium.Marker(locationlist[point],\n",
        "#                   popup=pdc_folium['Veiculo'][point],\n",
        "#                   icon=folium.Icon(color='red')).add_to(mapa)\n",
        "\n",
        "#mapa.save('accidents_pdc.html')\n",
        "\n",
        "# mapa"
      ]
    },
    {
      "cell_type": "markdown",
      "metadata": {
        "id": "dVZLimwQlkMZ"
      },
      "source": [
        "#K-means - Andy\n",
        "\n",
        "\n"
      ]
    },
    {
      "cell_type": "code",
      "execution_count": null,
      "metadata": {
        "id": "nnqYF4Ijlj1V"
      },
      "outputs": [],
      "source": [
        "# df = pd.read_excel(\"/content/drive/MyDrive/MSc/park_analysis4_total.xlsx\")"
      ]
    },
    {
      "cell_type": "code",
      "execution_count": null,
      "metadata": {
        "id": "Fzh7bLuzdFdd"
      },
      "outputs": [],
      "source": [
        "# dfgy = pd.read_excel(\"/content/drive/MyDrive/MSc/park4_gy.xlsx\")"
      ]
    },
    {
      "cell_type": "code",
      "execution_count": null,
      "metadata": {
        "colab": {
          "base_uri": "https://localhost:8080/"
        },
        "id": "z4B2Dw9HWfOk",
        "outputId": "43b583ab-526c-44b7-9945-0957bde3ee5a"
      },
      "outputs": [],
      "source": [
        "df.info()"
      ]
    },
    {
      "cell_type": "code",
      "execution_count": null,
      "metadata": {
        "id": "dDrsgDtwO2ad"
      },
      "outputs": [],
      "source": [
        "pck = df.copy()"
      ]
    },
    {
      "cell_type": "code",
      "execution_count": null,
      "metadata": {
        "id": "E7KTrVNaczhP"
      },
      "outputs": [],
      "source": [
        "# pgy = dfgy.copy()"
      ]
    },
    {
      "cell_type": "code",
      "execution_count": null,
      "metadata": {
        "colab": {
          "base_uri": "https://localhost:8080/",
          "height": 175
        },
        "id": "CvNmsKMzmDn_",
        "outputId": "6ba9157f-ab85-4945-d95f-3963ef908664"
      },
      "outputs": [],
      "source": [
        "pck.head(2)"
      ]
    },
    {
      "cell_type": "code",
      "execution_count": null,
      "metadata": {
        "id": "gUj1WRgWFTva"
      },
      "outputs": [],
      "source": [
        "pck.rename(columns = {' us_lpd_left':'us_lpd'}, inplace = True)"
      ]
    },
    {
      "cell_type": "code",
      "execution_count": null,
      "metadata": {
        "id": "6xmRe8YZlqCU"
      },
      "outputs": [],
      "source": [
        "def optimise_k_means(data, max_k):\n",
        "    means = []\n",
        "    inertias = []\n",
        "\n",
        "    for k in range(1,max_k):\n",
        "        kmeans = KMeans(n_clusters=k, random_state=42, init='k-means++', n_init=10)\n",
        "        kmeans.fit(data)\n",
        "        means.append(k)\n",
        "        inertias.append(kmeans.inertia_)\n",
        "\n",
        " #Generating the\n",
        "    fig = plt.subplots(figsize=(10, 5))\n",
        "    plt.plot(means, inertias, 'o-')\n",
        "    plt.xlabel(\"Number of Clusters\")\n",
        "    plt.ylabel(\"Inertia\")\n",
        "    plt.title('Elbow Method For Optimal number of Clusters')\n",
        "    plt.grid(True)\n",
        "    plt.show()"
      ]
    },
    {
      "cell_type": "code",
      "execution_count": null,
      "metadata": {
        "colab": {
          "base_uri": "https://localhost:8080/",
          "height": 268
        },
        "id": "7gYau7atWq9f",
        "outputId": "1f551420-db0b-4085-f987-28a7fbb98376"
      },
      "outputs": [],
      "source": [
        "pck.head()"
      ]
    },
    {
      "cell_type": "markdown",
      "metadata": {
        "id": "xl0s5EoUG99u"
      },
      "source": [
        "Padronização - standartization"
      ]
    },
    {
      "cell_type": "code",
      "execution_count": null,
      "metadata": {
        "colab": {
          "base_uri": "https://localhost:8080/",
          "height": 268
        },
        "id": "65DLUs8ToqqJ",
        "outputId": "6d5846b9-881c-46f9-9915-0cdd2211aad0"
      },
      "outputs": [],
      "source": [
        "scaler = StandardScaler()\n",
        "# scaler = StandaMinMaxScaler() quando der erro de que os valores são de grandezas diferente'\n",
        "# pck[['climb_t', 'us_lpd_t', 'speed_t']] = scaler.fit_transform(pck[['climb', 'us_lpd', 'speed']])\n",
        "pck[['climb_t', 'us_lpd_t', 'speed_t',\n",
        "     'accex_t', 'accey_t', 'accez_t',\n",
        "     'gyrox_t', 'gyroy_t', 'gyroz_t']] = scaler.fit_transform(pck[['climb', 'us_lpd', 'speed',\n",
        "                                                                   'accex', 'accey', 'accez',\n",
        "                                                                   'gyrox', 'gyroy', 'gyroz']])\n",
        "pck.head()"
      ]
    },
    {
      "cell_type": "markdown",
      "metadata": {
        "id": "GK0azcJzIY6K"
      },
      "source": [
        "MinMaxScaler"
      ]
    },
    {
      "cell_type": "code",
      "execution_count": null,
      "metadata": {
        "colab": {
          "base_uri": "https://localhost:8080/",
          "height": 431
        },
        "id": "yUJQBSA3mBlo",
        "outputId": "d6d7ae4a-449d-433a-f4ec-61d6fb8461d7"
      },
      "outputs": [],
      "source": [
        "# optimise_k_means(pck[['us_lpd_t', 'speed_t']], 15)\n",
        "optimise_k_means(pck[['climb_t', 'us_lpd_t', 'speed_t', 'accex_t', 'accey_t', 'accez_t', 'gyrox_t', 'gyroy_t', 'gyroz_t']], 15)\n",
        "# #plt.axvline(3, linestyle='--', color='r') = ver no notebok Bike itau"
      ]
    },
    {
      "cell_type": "code",
      "execution_count": null,
      "metadata": {
        "colab": {
          "base_uri": "https://localhost:8080/",
          "height": 438
        },
        "id": "aLCzg6LAyWSj",
        "outputId": "5f59e2b5-ed24-4a8b-87c4-980fd8c970d4"
      },
      "outputs": [],
      "source": [
        "optimise_k_means(pck[['accex', 'accey', 'accez', 'gyrox', 'gyroy', 'gyroz', 'climb', 'us_lpd', 'speed']], 15)\n",
        "# optimise_k_means(pck[['climb', 'us_lpd', 'speed']], 15)"
      ]
    },
    {
      "cell_type": "markdown",
      "metadata": {
        "id": "xnY0W6DKyuLi"
      },
      "source": [
        "In the plot above, we can see that the inertia (sum of the squared distances to the nearest cluster center) decreases as we increase the number of clusters. There is no clear defined break within this dataset, however, we can see that the slope changes from about 4 (3 to 5) clusters onwards."
      ]
    },
    {
      "cell_type": "code",
      "execution_count": null,
      "metadata": {
        "colab": {
          "base_uri": "https://localhost:8080/"
        },
        "id": "kecFNvn0WMIA",
        "outputId": "f2940939-07ef-4922-f1dd-247462b5f962"
      },
      "outputs": [],
      "source": [
        "# random_state=10 - forma como estava\n",
        "\n",
        "from sklearn.metrics import silhouette_samples, silhouette_score\n",
        "\n",
        "range_n_clusters = [2, 3, 4, 5, 6, 7, 8, 9, 10, 15]\n",
        "silscore = []\n",
        "X2 = pck[['climb_t', 'us_lpd_t', 'speed_t', 'accex_t', 'accey_t', 'accez_t', 'gyrox_t', 'gyroy_t', 'gyroz_t']].copy()\n",
        "\n",
        "for n_clusters in range_n_clusters:\n",
        "    clusterer = KMeans(n_clusters=n_clusters, random_state=10, init='k-means++', n_init=10)\n",
        "    cluster_labels = clusterer.fit_predict(X2)\n",
        "    silhouette_avg = silhouette_score(X2, cluster_labels)\n",
        "    silscore.append(silhouette_avg)\n",
        "    print(\"For n_clusters =\", n_clusters,\",\",\"The average silhouette_score is :\", silhouette_avg)\n",
        "    sample_silhouette_values = silhouette_samples(X2, cluster_labels)"
      ]
    },
    {
      "cell_type": "code",
      "execution_count": null,
      "metadata": {
        "colab": {
          "base_uri": "https://localhost:8080/"
        },
        "id": "JeTvbOt9YZuP",
        "outputId": "a4660632-a7c4-4aeb-e03c-7e50bc05841c"
      },
      "outputs": [],
      "source": [
        "# random_state=42 - nova proposta\n",
        "\n",
        "from sklearn.metrics import silhouette_samples, silhouette_score\n",
        "\n",
        "range_n_clusters = [2, 3, 4, 5, 6, 7, 8, 9, 10, 15]\n",
        "silscore = []\n",
        "X2 = pck[['climb_t', 'us_lpd_t', 'speed_t', 'accex_t', 'accey_t', 'accez_t', 'gyrox_t', 'gyroy_t', 'gyroz_t']].copy()\n",
        "\n",
        "for n_clusters in range_n_clusters:\n",
        "    clusterer = KMeans(n_clusters=n_clusters, random_state=42, init='k-means++', n_init=10)\n",
        "    cluster_labels = clusterer.fit_predict(X2)\n",
        "    silhouette_avg = silhouette_score(X2, cluster_labels)\n",
        "    silscore.append(silhouette_avg)\n",
        "    print(\"For n_clusters =\", n_clusters,\",\",\"The average silhouette_score is :\", silhouette_avg)\n",
        "    sample_silhouette_values = silhouette_samples(X2, cluster_labels)"
      ]
    },
    {
      "cell_type": "markdown",
      "metadata": {
        "id": "dOKEjrrNz7_7"
      },
      "source": [
        "Fititting the clustering models"
      ]
    },
    {
      "cell_type": "code",
      "execution_count": null,
      "metadata": {
        "id": "bAthsEOnnvBI"
      },
      "outputs": [],
      "source": [
        "# kmeans = KMeans(n_clusters=2)\n",
        "# kmeans.fit(pck[['accex_t', 'accey_t', 'accez_T', 'gyrox_t', 'gyroy_t', 'gyroz_t', 'climb_t', 'us_lpd_t', 'speed_t']])\n",
        "# #X['cluster_label'] = kmeans.fit_predict(X)\n",
        "# #centers = kmeans.cluster_centers_\n",
        "# #labels = kmeans.predict(df[['Latitude', 'Longitude', 'Usreading R']])\n",
        "\n",
        "# kmeans.cluster_centers_"
      ]
    },
    {
      "cell_type": "code",
      "execution_count": null,
      "metadata": {
        "id": "2DPb7KkQ6CR3"
      },
      "outputs": [],
      "source": [
        "# centers = kmeans.cluster_centers_\n",
        "# centers"
      ]
    },
    {
      "cell_type": "code",
      "execution_count": null,
      "metadata": {
        "id": "XfYbtoYl7Opx"
      },
      "outputs": [],
      "source": [
        "for k in range(2,7):\n",
        "  kmeans=KMeans(n_clusters=k, random_state=42, init='k-means++', n_init=42)\n",
        "  kmeans.fit(pck[['climb_t', 'us_lpd_t', 'speed_t', 'accex_t', 'accey_t', 'accez_t', 'gyrox_t', 'gyroy_t', 'gyroz_t']])\n",
        "  pck[f'KMeans_{k}'] = kmeans.labels_"
      ]
    },
    {
      "cell_type": "code",
      "execution_count": null,
      "metadata": {
        "colab": {
          "base_uri": "https://localhost:8080/",
          "height": 297
        },
        "id": "iZ2iioPO78tl",
        "outputId": "46971a80-6cd2-4a97-d409-9451c9e1ee54"
      },
      "outputs": [],
      "source": [
        "pck.head()"
      ]
    },
    {
      "cell_type": "code",
      "execution_count": null,
      "metadata": {
        "id": "pl_ujjxP8LVO"
      },
      "outputs": [],
      "source": [
        "#X.plot.scatter(x = 'Latitude', y = 'Longitude', c=labels, s=50f, cmap='viridis')\n",
        "#plt.scatter(centers[:, 0], centers[:, 1], c='black', s=200, alpha=0.5)"
      ]
    },
    {
      "cell_type": "code",
      "execution_count": null,
      "metadata": {
        "id": "ExXOjFX1-xJW"
      },
      "outputs": [],
      "source": [
        "#matplotlib\n",
        "# plt.scatter(y=pc['latitude'], x=pc['longitude'], c=pc['KMeans_4'])\n",
        "# plt.show()"
      ]
    },
    {
      "cell_type": "markdown",
      "metadata": {
        "id": "-YzFBkkq1OeV"
      },
      "source": [
        "## K-means Cluster Representation"
      ]
    },
    {
      "cell_type": "code",
      "execution_count": null,
      "metadata": {
        "colab": {
          "base_uri": "https://localhost:8080/",
          "height": 542
        },
        "id": "qc-msRj0J1Zp",
        "outputId": "b7e7c07a-4285-47e2-fc43-f5a7d0e3c025"
      },
      "outputs": [],
      "source": [
        "#plotly\n",
        "# pck[\"KMeans_3\"] = pck[\"KMeans_3\"].astype(float) #convert to string\n",
        "figkmeans = px.scatter(y=pck['latitude'],\n",
        "                       x=pck['longitude'],\n",
        "                       size=pck['us_lpd'],\n",
        "                       color=pck['KMeans_3'],\n",
        "                       color_continuous_scale=[(0.00, \"blue\"),\n",
        "                                               (0.33, \"blue\"),\n",
        "                                               (0.33, \"red\"),\n",
        "                                               (0.66, \"red\"),\n",
        "                                               (0.66, \"orange\"),\n",
        "                                               (1.00, \"orange\")], size_max=25)\n",
        "\n",
        "figkmeans.update_layout(title={'text':'K-Means Cluster Analysis',\n",
        "                               'y':0.95,\n",
        "                               'x':0.5,\n",
        "                               'xanchor': 'center',\n",
        "                               'yanchor': 'top'},\n",
        "                         xaxis_title=\"Longitude\",\n",
        "                         yaxis_title=\"Latitude\")\n",
        "\n",
        "# contextily.add_basemap(ax)\n",
        "# # fignew.set_axis_off()\n",
        "figkmeans.show()"
      ]
    },
    {
      "cell_type": "code",
      "execution_count": null,
      "metadata": {
        "id": "7v9fav0UJv5L"
      },
      "outputs": [],
      "source": [
        "pck_k0 = pck[pck['KMeans_3'] == 1].drop(columns=['climb_t', 'us_lpd_t', 'speed_t', 'accex_t', 'accey_t', 'accez_t', 'gyrox_t', 'gyroy_t', 'gyroz_t', 'KMeans_2', 'KMeans_4', 'KMeans_5', 'KMeans_6'])\n",
        "pck_k1 = pck[pck['KMeans_3'] == 2].drop(columns=['climb_t', 'us_lpd_t', 'speed_t', 'accex_t', 'accey_t', 'accez_t', 'gyrox_t', 'gyroy_t', 'gyroz_t', 'KMeans_2', 'KMeans_4', 'KMeans_5', 'KMeans_6'])\n",
        "pck_k2 = pck[pck['KMeans_3'] == 0].drop(columns=['climb_t', 'us_lpd_t', 'speed_t', 'accex_t', 'accey_t', 'accez_t', 'gyrox_t', 'gyroy_t', 'gyroz_t', 'KMeans_2', 'KMeans_4', 'KMeans_5', 'KMeans_6'])"
      ]
    },
    {
      "cell_type": "code",
      "execution_count": null,
      "metadata": {
        "colab": {
          "base_uri": "https://localhost:8080/",
          "height": 542
        },
        "id": "gmmpw6HUU-IC",
        "outputId": "312d9a96-c4ab-4200-90b0-37f40ff65e01"
      },
      "outputs": [],
      "source": [
        "fignew0 = px.scatter(y=pck_k0['latitude'],\n",
        "                    x=pck_k0['longitude'],\n",
        "                    size=pck_k0['us_lpd'],\n",
        "                    color=pck_k0['KMeans_3'],\n",
        "                    color_continuous_scale=[(0.00, \"red\"),\n",
        "                                            (1.00, \"red\")], size_max=30)\n",
        "\n",
        "fignew0.update_layout(title={'text':'Cluster Analysis',\n",
        "                            'y':0.95,\n",
        "                            'x':0.5,\n",
        "                            'xanchor': 'center',\n",
        "                            'yanchor': 'top'},\n",
        "                    xaxis_title=\"Longitude\",\n",
        "                    yaxis_title=\"Latitude\")\n",
        "fignew0.show()"
      ]
    },
    {
      "cell_type": "code",
      "execution_count": null,
      "metadata": {
        "colab": {
          "base_uri": "https://localhost:8080/",
          "height": 583
        },
        "id": "_t5-VifLtG_f",
        "outputId": "f98aeb52-8659-4259-837f-db4ad4828621"
      },
      "outputs": [],
      "source": [
        "sns.pairplot(pck_k0, x_vars=[\"accez\",'accey',\"accex\"], y_vars=[\"climb\"], height=4, aspect=.9, kind=\"reg\");\n",
        "sns.pairplot(pck_k0, x_vars=[\"gyroz\",'gyroy',\"gyrox\"], y_vars=[\"climb\"], height=4, aspect=.9, kind=\"reg\");"
      ]
    },
    {
      "cell_type": "code",
      "execution_count": null,
      "metadata": {
        "colab": {
          "base_uri": "https://localhost:8080/",
          "height": 542
        },
        "id": "uUwtljR5VT--",
        "outputId": "74e39de3-f223-4e19-b5a1-811aff4a671e"
      },
      "outputs": [],
      "source": [
        "fignew1 = px.scatter(y=pck_k1['latitude'],\n",
        "                    x=pck_k1['longitude'],\n",
        "                    size=pck_k1['us_lpd'],\n",
        "                    color=pck_k1['KMeans_3'],\n",
        "                    color_continuous_scale=[(0.00, \"blue\"),\n",
        "                                            (0.33, \"blue\"),\n",
        "                                            (0.33, \"orange\"),\n",
        "                                            (0.66, \"orange\"),\n",
        "                                            (0.66, \"red\"),\n",
        "                                            (1.00, \"red\")], size_max=30)\n",
        "\n",
        "fignew1.update_layout(title={'text':'Cluster Analysis',\n",
        "                            'y':0.95,\n",
        "                            'x':0.5,\n",
        "                            'xanchor': 'center',\n",
        "                            'yanchor': 'top'},\n",
        "                    xaxis_title=\"Longitude\",\n",
        "                    yaxis_title=\"Latitude\")\n",
        "fignew1.show()"
      ]
    },
    {
      "cell_type": "code",
      "execution_count": null,
      "metadata": {
        "colab": {
          "base_uri": "https://localhost:8080/",
          "height": 583
        },
        "id": "xuZBUHxIuP5q",
        "outputId": "83a89831-c7ff-4412-c80e-33383ebb0527"
      },
      "outputs": [],
      "source": [
        "sns.pairplot(pck_k1, x_vars=[\"accez\",'accey',\"accex\"], y_vars=[\"us_lpd\"], height=4, aspect=.9, kind=\"reg\");\n",
        "sns.pairplot(pck_k1, x_vars=[\"gyroz\",'gyroy',\"gyrox\"], y_vars=[\"us_lpd\"], height=4, aspect=.9, kind=\"reg\");"
      ]
    },
    {
      "cell_type": "code",
      "execution_count": null,
      "metadata": {
        "colab": {
          "base_uri": "https://localhost:8080/",
          "height": 542
        },
        "id": "SEHjWRXjVr2V",
        "outputId": "ad0bb9ad-d094-4b7f-b3d3-c816b9e4f4b0"
      },
      "outputs": [],
      "source": [
        "fignew2 = px.scatter(y=pck_k2['latitude'],\n",
        "                    x=pck_k2['longitude'],\n",
        "                    size=pck_k2['us_lpd'],\n",
        "                    color=pck_k2['KMeans_3'],\n",
        "                    color_continuous_scale=[(0.00, \"blue\"),\n",
        "                                            (1.00, \"blue\"),\n",
        "                                            ], size_max=30)\n",
        "fignew2.update_layout(title={'text':'Cluster Analysis',\n",
        "                            'y':0.95,\n",
        "                            'x':0.5,\n",
        "                            'xanchor': 'center',\n",
        "                            'yanchor': 'top'},\n",
        "                    xaxis_title=\"Longitude\",\n",
        "                    yaxis_title=\"Latitude\")\n",
        "fignew2.show()"
      ]
    },
    {
      "cell_type": "code",
      "execution_count": null,
      "metadata": {
        "colab": {
          "base_uri": "https://localhost:8080/",
          "height": 583
        },
        "id": "cOGTItqLugIS",
        "outputId": "d0c78256-610d-48d7-92e5-febbadec4532"
      },
      "outputs": [],
      "source": [
        "sns.pairplot(pck_k2, x_vars=[\"accez\",'accey',\"accex\"], y_vars=[\"us_lpd\"], height=4, aspect=.9, kind=\"reg\");\n",
        "sns.pairplot(pck_k2, x_vars=[\"gyroz\",'gyroy',\"gyrox\"], y_vars=[\"us_lpd\"], height=4, aspect=.9, kind=\"reg\");"
      ]
    },
    {
      "cell_type": "code",
      "execution_count": null,
      "metadata": {
        "colab": {
          "base_uri": "https://localhost:8080/",
          "height": 361
        },
        "id": "d4xHuEREMFo7",
        "outputId": "d562d9e4-1e01-4c41-86b2-f1f9f0b9ef17"
      },
      "outputs": [],
      "source": [
        "pck_k0.describe().round(4)"
      ]
    },
    {
      "cell_type": "code",
      "execution_count": null,
      "metadata": {
        "colab": {
          "base_uri": "https://localhost:8080/",
          "height": 361
        },
        "id": "-wqNAhVmMbRq",
        "outputId": "09701dee-f4d6-430d-f898-663677e50002"
      },
      "outputs": [],
      "source": [
        "pck_k1.describe().round(4)"
      ]
    },
    {
      "cell_type": "code",
      "execution_count": null,
      "metadata": {
        "colab": {
          "base_uri": "https://localhost:8080/",
          "height": 361
        },
        "id": "4cK27k1RMbF_",
        "outputId": "30de509d-81ee-445e-e071-d50cee48f4a1"
      },
      "outputs": [],
      "source": [
        "pck_k2.describe().round(4)"
      ]
    },
    {
      "cell_type": "markdown",
      "metadata": {
        "id": "EUY4o44sPkrL"
      },
      "source": [
        "###Cluster distribution comparation"
      ]
    },
    {
      "cell_type": "code",
      "execution_count": null,
      "metadata": {
        "colab": {
          "base_uri": "https://localhost:8080/",
          "height": 993
        },
        "id": "vKOG7b5Qx05r",
        "outputId": "901282df-bcaa-48a3-b4ca-1330f6115b9b"
      },
      "outputs": [],
      "source": [
        "f, axes = plt.subplots(figsize=(16,6))\n",
        "sns.set_palette('colorblind')\n",
        "\n",
        "ax = sns.distplot(pck_k0['us_lpd'],label='Cluster 0')\n",
        "ax1 = sns.distplot(pck_k1['us_lpd'],label='Cluster 1')\n",
        "ax2 = sns.distplot(pck_k2['us_lpd'], label='Cluster 2')\n",
        "\n",
        "ax1.legend(bbox_to_anchor=(0., 1.02, 1., .102), loc=3, mode=\"expand\", borderaxespad=0.)\n",
        "ax.legend(bbox_to_anchor=(0., 1.02, 1., .102), loc=3, ncol=4, mode=\"expand\", borderaxespad=0.)\n",
        "\n",
        "ax1.set_xlabel(\"Lateral Passing Distance (cm)\")\n",
        "plt.ylabel('Density')\n",
        "\n",
        "plt.show()"
      ]
    },
    {
      "cell_type": "code",
      "execution_count": null,
      "metadata": {
        "colab": {
          "base_uri": "https://localhost:8080/",
          "height": 142
        },
        "id": "ys1tHUsArA-L",
        "outputId": "f98eced8-1af5-4872-a27d-b3bb8ed124f4"
      },
      "outputs": [],
      "source": [
        "pd.options.display.float_format = \"{:,.2f}\".format\n",
        "\n",
        "# Resumo estatístico da distribuíção da duração das viagens\n",
        "resumo = pd.DataFrame(data=[pck_k0['us_lpd'].describe(),\n",
        "                            pck_k1['us_lpd'].describe(),\n",
        "                            pck_k2['us_lpd'].describe()],\n",
        "                      index=['Cluster 0','Cluster 1','Cluster 2'])\n",
        "\n",
        "resumo.columns = ['samples','mean','std','min','25%','50%','75%','max']\n",
        "resumo"
      ]
    },
    {
      "cell_type": "code",
      "execution_count": null,
      "metadata": {
        "colab": {
          "base_uri": "https://localhost:8080/"
        },
        "id": "IX_bPs3gvM0U",
        "outputId": "a8484ea3-eb23-4999-a1ac-36cd734899b9"
      },
      "outputs": [],
      "source": [
        "# Teste KS para comparar as distribuições - Performs the two-sample Kolmogorov-Smirnov test for goodness of fit.\n",
        "from scipy import stats\n",
        "print('KS test: {}'.format(stats.ks_2samp(pck_k0['us_lpd'], pck_k1['us_lpd'])))\n",
        "print('KS test: {}'.format(stats.ks_2samp(pck_k1['us_lpd'], pck_k2['us_lpd'])))\n",
        "print('KS test: {}'.format(stats.ks_2samp(pck_k0['us_lpd'], pck_k2['us_lpd'])))"
      ]
    },
    {
      "cell_type": "code",
      "execution_count": null,
      "metadata": {
        "colab": {
          "base_uri": "https://localhost:8080/"
        },
        "id": "ysz_UaT-e8Q4",
        "outputId": "141e801b-8410-456e-e003-2f95cfb6ea11"
      },
      "outputs": [],
      "source": [
        "print('Teste KS: {}'.format(stats.ks_2samp(pck_k0['climb'], pck_k1['climb'])))\n",
        "print('Teste KS: {}'.format(stats.ks_2samp(pck_k1['climb'], pck_k2['climb'])))\n",
        "print('Teste KS: {}'.format(stats.ks_2samp(pck_k0['climb'], pck_k2['climb'])))"
      ]
    },
    {
      "cell_type": "code",
      "execution_count": null,
      "metadata": {
        "id": "o7b_voKj_or8"
      },
      "outputs": [],
      "source": [
        "# from scipy.stats import f_oneway\n",
        "\n",
        "# cluster_groups = [pck.loc[pck['KMeans_3']==0, 'us_lpd'].values for arm in pck['KMeans_3'].dropna().unique()]\n",
        "# stat, p_value = f_oneway(*cluster_groups)\n",
        "# print(f\"F Test: statistic={stat:.4f}, p-value={p_value:.4f}\")"
      ]
    },
    {
      "cell_type": "code",
      "execution_count": null,
      "metadata": {
        "colab": {
          "base_uri": "https://localhost:8080/"
        },
        "id": "BP5LHsqwF_Bg",
        "outputId": "6cd1f69f-1c02-4b53-93be-e2a4e3df8a0b"
      },
      "outputs": [],
      "source": [
        "from scipy.stats import f_oneway\n",
        "k0 = pck_k0[['accex','accey','accez','climb','gyrox','gyroy','gyroz','us_lpd','speed']]\n",
        "k1 = pck_k1[['accex','accey','accez','climb','gyrox','gyroy','gyroz','us_lpd','speed']]\n",
        "k2 = pck_k2[['accex','accey','accez','climb','gyrox','gyroy','gyroz','us_lpd','speed']]\n",
        "\n",
        "ANOVA = f_oneway(k0, k1, k2, axis=0)\n",
        "ANOVA"
      ]
    },
    {
      "cell_type": "markdown",
      "metadata": {
        "id": "3siJ7DnDmZlY"
      },
      "source": [
        "\n",
        "os centros estão vindo escalados - ver possibilidade de listas eles sem a escala normalizada"
      ]
    },
    {
      "cell_type": "code",
      "execution_count": null,
      "metadata": {
        "colab": {
          "base_uri": "https://localhost:8080/"
        },
        "id": "CMYlUO9daSnm",
        "outputId": "c55c1a52-b946-442f-8264-9557d9be78fd"
      },
      "outputs": [],
      "source": [
        "centers = kmeans.cluster_centers_\n",
        "centers"
      ]
    },
    {
      "cell_type": "markdown",
      "metadata": {
        "id": "cHip8HKjL8g4"
      },
      "source": [
        "parentesis para ver centros de diferentes clusters"
      ]
    },
    {
      "cell_type": "code",
      "execution_count": null,
      "metadata": {
        "id": "o-XDrmw4K1fZ"
      },
      "outputs": [],
      "source": [
        "#   #Para ver os centros do caso pontual de n clusters\n",
        "\n",
        "# kmeans = KMeans(n_clusters=3)\n",
        "# kmeans.fit(pck[['accex_t', 'accey_t', 'accez_T', 'gyrox_t', 'gyroy_t', 'gyroz_t', 'climb_t', 'us_lpd_t', 'speed_t']])\n",
        "# #X['cluster_label'] = kmeans.fit_predict(X)\n",
        "# #centers = kmeans.cluster_centers_\n",
        "# #labels = kmeans.predict(df[['Latitude', 'Longitude', 'Usreading R']])\n",
        "\n",
        "# kmeans.cluster_centers_"
      ]
    },
    {
      "cell_type": "code",
      "execution_count": null,
      "metadata": {
        "id": "d8EB0cuw_XDU"
      },
      "outputs": [],
      "source": [
        "# kmeans.fit(pck[['accex_t', 'accey_t', 'accez_t', 'gyrox_t', 'gyroy_t', 'gyroz_t', 'climb_t', 'us_lpd_t', 'speed_t']])"
      ]
    },
    {
      "cell_type": "code",
      "execution_count": null,
      "metadata": {
        "id": "YEbXtqswkJRy"
      },
      "outputs": [],
      "source": [
        "# from sklear.preprocessing import OrdinalEncoder\n",
        "\n",
        "# oe = OrdinalEncoder()\n",
        "# X = or.fit_transform(X)"
      ]
    },
    {
      "cell_type": "code",
      "execution_count": null,
      "metadata": {
        "colab": {
          "base_uri": "https://localhost:8080/"
        },
        "id": "bnbSwYvR_dP-",
        "outputId": "c47fb8d7-c833-4ab5-807a-4f1af8334114"
      },
      "outputs": [],
      "source": [
        "kmeans.cluster_centers_"
      ]
    },
    {
      "cell_type": "code",
      "execution_count": null,
      "metadata": {
        "colab": {
          "base_uri": "https://localhost:8080/",
          "height": 225
        },
        "id": "Y-LYzMF9f4NT",
        "outputId": "e2a82539-535d-45fc-dd1a-dc478a228a81"
      },
      "outputs": [],
      "source": [
        "fig, axs = plt.subplots(nrows=1, ncols=5, figsize=(20,5))\n",
        "#plt.scatter(centers[:, 0], centers[:, 1], c='black', s=200, alpha=0.5)\n",
        "for i, ax in enumerate(fig.axes, start=2):\n",
        "    ax.scatter(y=pck['latitude'], x=pck['longitude'], c=pck[f'KMeans_{i}'])\n",
        "    ax.set_title(f'N Clusters:{i}')"
      ]
    },
    {
      "cell_type": "markdown",
      "metadata": {
        "id": "qbnkAoPhTfRL"
      },
      "source": [
        "silhouette score for k-means"
      ]
    },
    {
      "cell_type": "code",
      "execution_count": null,
      "metadata": {
        "colab": {
          "base_uri": "https://localhost:8080/"
        },
        "id": "uq2K4HHloSyp",
        "outputId": "13201f2e-b5c3-4290-d2b4-c78403e0ff5e"
      },
      "outputs": [],
      "source": [
        "pck['KMeans_3'].describe()"
      ]
    },
    {
      "cell_type": "code",
      "execution_count": null,
      "metadata": {
        "colab": {
          "base_uri": "https://localhost:8080/",
          "height": 297
        },
        "id": "7bpw6JWh6A_i",
        "outputId": "f9f61719-af07-405c-ed3f-03ca05de98ed"
      },
      "outputs": [],
      "source": [
        "pck[['us_lpd','speed', 'climb']].describe()"
      ]
    },
    {
      "cell_type": "markdown",
      "metadata": {
        "id": "T3X6VwL5TPWG"
      },
      "source": [
        "###Feature Silhouette Analysis"
      ]
    },
    {
      "cell_type": "code",
      "execution_count": null,
      "metadata": {
        "colab": {
          "base_uri": "https://localhost:8080/"
        },
        "id": "5PMIhJA2NGmP",
        "outputId": "3038920e-a365-4e75-87bd-3b100800b6fe"
      },
      "outputs": [],
      "source": [
        "from sklearn import metrics\n",
        "\n",
        "  #total\n",
        "X2 = pck[['climb_t', 'us_lpd_t', 'speed_t', 'accex_t', 'accey_t', 'accez_t', 'gyrox_t', 'gyroy_t', 'gyroz_t']]\n",
        "kmeans_model = KMeans(n_clusters=3, random_state=42, init='k-means++', n_init=42).fit(X2)\n",
        "labels = kmeans_model.labels_\n",
        "metrics.silhouette_score(X2, labels, metric='euclidean')"
      ]
    },
    {
      "cell_type": "code",
      "execution_count": null,
      "metadata": {
        "colab": {
          "base_uri": "https://localhost:8080/"
        },
        "id": "6B-icCjbSlHf",
        "outputId": "ad863fd8-d23a-4450-88d6-198c62cf9f0f"
      },
      "outputs": [],
      "source": [
        "  #3 + acce\n",
        "\n",
        "X3 = pck[['climb_t', 'us_lpd_t', 'speed_t', 'accex_t', 'accey_t', 'accez_t']]\n",
        "kmeans_model = KMeans(n_clusters=3, random_state=42, init='k-means++', n_init=42).fit(X3)\n",
        "labels = kmeans_model.labels_\n",
        "metrics.silhouette_score(X3, labels, metric='euclidean')"
      ]
    },
    {
      "cell_type": "code",
      "execution_count": null,
      "metadata": {
        "colab": {
          "base_uri": "https://localhost:8080/"
        },
        "id": "6uNIwXwlTgup",
        "outputId": "24f74d8b-d695-49cf-8867-b405bfbd09f5"
      },
      "outputs": [],
      "source": [
        "  #3 + gyro\n",
        "\n",
        "X7 = pck[['climb_t', 'us_lpd_t', 'speed_t', 'gyrox_t', 'gyroy_t', 'gyroz_t']]\n",
        "kmeans_model = KMeans(n_clusters=3, random_state=42, init='k-means++', n_init=42).fit(X7)\n",
        "labels = kmeans_model.labels_\n",
        "metrics.silhouette_score(X7, labels, metric='euclidean')"
      ]
    },
    {
      "cell_type": "code",
      "execution_count": null,
      "metadata": {
        "colab": {
          "base_uri": "https://localhost:8080/"
        },
        "id": "U4nxKHvxSk3E",
        "outputId": "3381dac8-1692-4a61-af07-554dbb09e5b3"
      },
      "outputs": [],
      "source": [
        "  #3 = n_clusters ruim\n",
        "\n",
        "X4 = pck[['climb_t', 'us_lpd_t', 'speed_t']]\n",
        "kmeans_model = KMeans(n_clusters=3, random_state=42, init='k-means++', n_init=42).fit(X4)\n",
        "labels = kmeans_model.labels_\n",
        "metrics.silhouette_score(X4, labels, metric='euclidean')"
      ]
    },
    {
      "cell_type": "code",
      "execution_count": null,
      "metadata": {
        "colab": {
          "base_uri": "https://localhost:8080/"
        },
        "id": "Br5M0O8zS4Kl",
        "outputId": "0fc4139e-c117-4344-ad6e-e0af2ce39033"
      },
      "outputs": [],
      "source": [
        "X5 = pck[['climb_t', 'us_lpd_t']]\n",
        "kmeans_model = KMeans(n_clusters=3, random_state=42, init='k-means++', n_init=42).fit(X5)\n",
        "labels = kmeans_model.labels_\n",
        "metrics.silhouette_score(X5, labels, metric='euclidean')"
      ]
    },
    {
      "cell_type": "code",
      "execution_count": null,
      "metadata": {
        "colab": {
          "base_uri": "https://localhost:8080/"
        },
        "id": "3qfyUGGRTC8Z",
        "outputId": "39a047a9-a9a9-448d-9527-8088c5ed14ca"
      },
      "outputs": [],
      "source": [
        "X6 = pck[['speed_t', 'us_lpd_t']]\n",
        "kmeans_model = KMeans(n_clusters=3, random_state=42, init='k-means++', n_init=42).fit(X6)\n",
        "labels = kmeans_model.labels_\n",
        "metrics.silhouette_score(X6, labels, metric='euclidean')"
      ]
    },
    {
      "cell_type": "markdown",
      "metadata": {
        "id": "jRVPLkoO6y1o"
      },
      "source": [
        "### PCA test"
      ]
    },
    {
      "cell_type": "code",
      "execution_count": null,
      "metadata": {
        "colab": {
          "base_uri": "https://localhost:8080/"
        },
        "id": "uNLTL3q96ybY",
        "outputId": "8cd54e76-fe02-4471-ccfa-1b358855a7f2"
      },
      "outputs": [],
      "source": [
        "import numpy as np\n",
        "from sklearn.decomposition import PCA\n",
        "\n",
        "X = np.array(pck[['climb_t', 'speed_t', 'accex_t', 'accey_t', 'accez_t', 'gyrox_t', 'gyroy_t', 'gyroz_t', 'us_lpd_t']])\n",
        "pca = PCA(n_components=2)\n",
        "x = pca.fit_transform(X)\n",
        "\n",
        "print(pca.explained_variance_ratio_)"
      ]
    },
    {
      "cell_type": "code",
      "execution_count": null,
      "metadata": {
        "colab": {
          "base_uri": "https://localhost:8080/"
        },
        "id": "49dVJCK3b3p-",
        "outputId": "fcc0e4a9-3185-4105-d582-b1732c2e16d0"
      },
      "outputs": [],
      "source": [
        "Xt = np.array(pck[['climb', 'speed', 'accex', 'accey', 'accez', 'gyrox', 'gyroy', 'gyroz','us_lpd']])\n",
        "pca = PCA(n_components=2)\n",
        "xt = pca.fit_transform(Xt)\n",
        "\n",
        "print(pca.explained_variance_ratio_)"
      ]
    },
    {
      "cell_type": "code",
      "execution_count": null,
      "metadata": {
        "id": "tYyRLCoX7eSd"
      },
      "outputs": [],
      "source": [
        "cols = pck[['climb_t', 'us_lpd_t', 'speed_t', 'accex_t', 'accey_t', 'accez_t', 'gyrox_t', 'gyroy_t', 'gyroz_t', 'us_lpd_t']].columns.tolist()\n"
      ]
    },
    {
      "cell_type": "code",
      "execution_count": null,
      "metadata": {
        "id": "liFycWcg80M7"
      },
      "outputs": [],
      "source": [
        "dt = pd.DataFrame(xt)\n",
        "dt['us_lpd'] = pck['us_lpd_t']\n",
        "\n",
        "d = pd.DataFrame(xt)\n",
        "d['us_lpd'] = pck['us_lpd']"
      ]
    },
    {
      "cell_type": "code",
      "execution_count": null,
      "metadata": {
        "colab": {
          "base_uri": "https://localhost:8080/",
          "height": 447
        },
        "id": "GsTxck09D3Bx",
        "outputId": "9ad5372e-fed2-43fe-f3cf-c6a57eadb71e"
      },
      "outputs": [],
      "source": [
        "pck['us_lpd'].hist(bins=15)"
      ]
    },
    {
      "cell_type": "code",
      "execution_count": null,
      "metadata": {
        "colab": {
          "base_uri": "https://localhost:8080/",
          "height": 542
        },
        "id": "TNXsZoZC8G-I",
        "outputId": "e5ef8a7d-1d61-4665-d2a5-85dde3751da1"
      },
      "outputs": [],
      "source": [
        "px.scatter(dt, x=1,y=0, color='us_lpd')"
      ]
    },
    {
      "cell_type": "code",
      "execution_count": null,
      "metadata": {
        "colab": {
          "base_uri": "https://localhost:8080/",
          "height": 542
        },
        "id": "4daPFf8McSKS",
        "outputId": "a8a32ab3-8546-4d7e-d147-002646ecc6b9"
      },
      "outputs": [],
      "source": [
        "px.scatter(d, x=1,y=0, color='us_lpd',\n",
        "           color_continuous_scale=[(0.00, \"red\"),\n",
        "                                   (0.33, \"red\"),\n",
        "                                   (0.33, \"orange\"),\n",
        "                                   (0.66, \"orange\"),\n",
        "                                   (0.66, \"blue\"),\n",
        "                                   (1.00, \"blue\")])"
      ]
    },
    {
      "cell_type": "code",
      "execution_count": null,
      "metadata": {
        "id": "2P6SRoY3HIO_"
      },
      "outputs": [],
      "source": [
        "c1 = pck[pck['KMeans_3']==0]"
      ]
    },
    {
      "cell_type": "markdown",
      "metadata": {
        "id": "OIm_Q8MAN8mA"
      },
      "source": [
        "####Fim K-means"
      ]
    },
    {
      "cell_type": "markdown",
      "metadata": {
        "id": "PxtN7BZNlfX4"
      },
      "source": [
        "#*DBSCAN* - Greg"
      ]
    },
    {
      "cell_type": "code",
      "execution_count": null,
      "metadata": {
        "id": "a0znc48t856n"
      },
      "outputs": [],
      "source": [
        "# df = pd.read_excel(\"/content/drive/MyDrive/MSc/park_analysis4_total.xlsx\")"
      ]
    },
    {
      "cell_type": "code",
      "execution_count": null,
      "metadata": {
        "id": "BJMmz7d6ObQu"
      },
      "outputs": [],
      "source": [
        "pcD = df.copy()"
      ]
    },
    {
      "cell_type": "code",
      "execution_count": null,
      "metadata": {
        "id": "ekjNFFH0mhpo"
      },
      "outputs": [],
      "source": [
        "from sklearn.cluster import DBSCAN"
      ]
    },
    {
      "cell_type": "code",
      "execution_count": null,
      "metadata": {
        "id": "bbs0hh8A-1ul"
      },
      "outputs": [],
      "source": [
        "pcD.rename(columns = {' us_lpd_left':'us_lpd'}, inplace = True)"
      ]
    },
    {
      "cell_type": "code",
      "execution_count": null,
      "metadata": {
        "id": "v9KxvPdH50Ze"
      },
      "outputs": [],
      "source": [
        "# DBSCAN is not sensitive to scalar variation like k-means\n",
        "# from sklearn.preprocessing import StandardScaler\n",
        "# scaler = StandardScaler()\n",
        "# pcD[['climb_t', 'us_lpd_left_t', 'speed_t']] = scaler.fit_transform(pcD[[ 'climb', ' us_lpd_left', 'speed']])\n",
        "# pcD"
      ]
    },
    {
      "cell_type": "code",
      "execution_count": null,
      "metadata": {
        "colab": {
          "base_uri": "https://localhost:8080/",
          "height": 312
        },
        "id": "ocEt8g1d_p4i",
        "outputId": "624e1c8b-cb77-4721-d4c8-48fd4cf171c5"
      },
      "outputs": [],
      "source": [
        "pcD.head()"
      ]
    },
    {
      "cell_type": "code",
      "execution_count": null,
      "metadata": {
        "id": "vAqY9lDulkPG"
      },
      "outputs": [],
      "source": [
        "lat_long_read = pcD[['latitude','longitude','climb','speed','us_lpd']]\n",
        "lat, longg, climb, speed, lpd = pcD.latitude, pcD.longitude, pcD.climb, pcD.speed, pcD.us_lpd\n",
        "\n",
        "# plt.scatter(climb,lpd,speed)"
      ]
    },
    {
      "cell_type": "code",
      "execution_count": null,
      "metadata": {
        "colab": {
          "base_uri": "https://localhost:8080/",
          "height": 94
        },
        "id": "X3AoGfS6QGHk",
        "outputId": "b8f01ac4-59eb-4d7f-e0f6-aff0a1dc9bdd"
      },
      "outputs": [],
      "source": [
        "X = pcD[['latitude', 'longitude','climb','speed', 'us_lpd']]\n",
        "\n",
        "from sklearn.cluster import DBSCAN\n",
        "X = lat_long_read.to_numpy()\n",
        "\n",
        "dbscan_cluster_model = DBSCAN(eps=0.00025, min_samples=2).fit(X)\n",
        "dbscan_cluster_model"
      ]
    },
    {
      "cell_type": "code",
      "execution_count": null,
      "metadata": {
        "colab": {
          "base_uri": "https://localhost:8080/",
          "height": 312
        },
        "id": "VPDiyPyOnQoH",
        "outputId": "787dafde-5a95-4d89-d647-7901c5acf9bf"
      },
      "outputs": [],
      "source": [
        "pcD['cluster'] = dbscan_cluster_model.labels_\n",
        "pcD.head()"
      ]
    },
    {
      "cell_type": "code",
      "execution_count": null,
      "metadata": {
        "colab": {
          "base_uri": "https://localhost:8080/"
        },
        "id": "XiX-VO4LpSBu",
        "outputId": "eba324ce-145e-4d68-d18d-153a5110d2d0"
      },
      "outputs": [],
      "source": [
        "pcD['cluster'].value_counts()"
      ]
    },
    {
      "cell_type": "markdown",
      "metadata": {
        "id": "Q6XnlTwFQuEI"
      },
      "source": [
        "https://colab.research.google.com/drive/1DphvjpgQXwBWQq08dMyoSc6UREzXLxSE?usp=sharing#scrollTo=aWZJXk5aXcZX\n",
        "testar encontrar melhor esp e min_sample"
      ]
    },
    {
      "cell_type": "code",
      "execution_count": null,
      "metadata": {
        "id": "ePMA6j7nDvEd"
      },
      "outputs": [],
      "source": [
        "# px.scatter_3d(data_frame=pcD,x=longg, y=lat, z=lpd, color=pcD['cluster'],template='plotly_white',\n",
        "#              title='3D Scatter plot for KMeans Clusters')"
      ]
    },
    {
      "cell_type": "code",
      "execution_count": null,
      "metadata": {
        "id": "NsyNRDy751hm"
      },
      "outputs": [],
      "source": [
        "# from sklearn.metrics import silhouette_score as ss\n",
        "# ss(X, pcD['cluster'])"
      ]
    },
    {
      "cell_type": "code",
      "execution_count": null,
      "metadata": {
        "colab": {
          "base_uri": "https://localhost:8080/"
        },
        "id": "25GNUL2sgjSF",
        "outputId": "96a66020-6226-49d9-b2db-96d2a9f9d149"
      },
      "outputs": [],
      "source": [
        "epsilons = np.linspace(0.01, 1, num=15)\n",
        "epsilons"
      ]
    },
    {
      "cell_type": "code",
      "execution_count": null,
      "metadata": {
        "colab": {
          "base_uri": "https://localhost:8080/"
        },
        "id": "BE-GQx5eB36A",
        "outputId": "d5278264-c640-46f8-feeb-4003219c5b6d"
      },
      "outputs": [],
      "source": [
        "min_samples = np.arange(2, 20, step=3)\n",
        "min_samples"
      ]
    },
    {
      "cell_type": "code",
      "execution_count": null,
      "metadata": {
        "colab": {
          "base_uri": "https://localhost:8080/"
        },
        "id": "rt66-alvB75Y",
        "outputId": "88dbb39e-a939-4126-f4ec-e712eb0a6cd5"
      },
      "outputs": [],
      "source": [
        "import itertools\n",
        "combinations = list(itertools.product(epsilons, min_samples))\n",
        "combinations"
      ]
    },
    {
      "cell_type": "code",
      "execution_count": null,
      "metadata": {
        "colab": {
          "base_uri": "https://localhost:8080/"
        },
        "id": "xeEluJerB7iY",
        "outputId": "59aa0bd0-99ce-49f8-8657-6cd93898ee24"
      },
      "outputs": [],
      "source": [
        "combinations = list(itertools.product(epsilons, min_samples))\n",
        "N = len(combinations)\n",
        "N"
      ]
    },
    {
      "cell_type": "code",
      "execution_count": null,
      "metadata": {
        "colab": {
          "base_uri": "https://localhost:8080/"
        },
        "id": "58orrIgyB7HI",
        "outputId": "bd0cfa9a-e6ef-4398-aeb5-38155bffc207"
      },
      "outputs": [],
      "source": [
        "def get_scores_and_labels(combinations, X):\n",
        "  scores = []\n",
        "  all_labels_list = []\n",
        "\n",
        "  for i, (eps, num_samples) in enumerate(combinations):\n",
        "    dbscan_cluster_model = DBSCAN(eps=eps, min_samples=num_samples).fit(X)\n",
        "    labels = dbscan_cluster_model.labels_\n",
        "    labels_set = set(labels)\n",
        "    num_clusters = len(labels_set)\n",
        "    if -1 in labels_set:\n",
        "      num_clusters -= 1\n",
        "\n",
        "    if (num_clusters < 2) or (num_clusters > 50):\n",
        "      scores.append(-10)\n",
        "      all_labels_list.append('bad')\n",
        "      c = (eps, num_samples)\n",
        "      print(f\"Combination {c} on iteration {i+1} of {N} has {num_clusters} clusters. Moving on\")\n",
        "      continue\n",
        "\n",
        "    scores.append(ss(X, labels))\n",
        "    all_labels_list.append(labels)\n",
        "    print(f\"Index: {i}, Score: {scores[-1]}, Labels: {all_labels_list[-1]}, NumClusters: {num_clusters}\")\n",
        "\n",
        "  best_index = np.argmax(scores)\n",
        "  best_parameters = combinations[best_index]\n",
        "  best_labels = all_labels_list[best_index]\n",
        "  best_score = scores[best_index]\n",
        "\n",
        "  return {'best_epsilon': best_parameters[0],\n",
        "          'best_min_samples': best_parameters[1],\n",
        "          'best_labels': best_labels,\n",
        "          'best_score': best_score}\n",
        "\n",
        "best_dict = get_scores_and_labels(combinations, X)"
      ]
    },
    {
      "cell_type": "markdown",
      "metadata": {
        "id": "SbUpuU1Z7Dpv"
      },
      "source": [
        "Epsilon, MinSamples and Silhouette Score for DBSCAN"
      ]
    },
    {
      "cell_type": "code",
      "execution_count": null,
      "metadata": {
        "colab": {
          "base_uri": "https://localhost:8080/"
        },
        "id": "2n29qqKnCP5L",
        "outputId": "8a44d720-dab5-42f9-aeec-d876e40d66b6"
      },
      "outputs": [],
      "source": [
        "best_dict"
      ]
    },
    {
      "cell_type": "markdown",
      "metadata": {
        "id": "i26w8t0h7J8o"
      },
      "source": [
        "Clusters and Noise Points"
      ]
    },
    {
      "cell_type": "code",
      "execution_count": null,
      "metadata": {
        "colab": {
          "base_uri": "https://localhost:8080/"
        },
        "id": "r2I3GgB7CZqx",
        "outputId": "055d9b56-f87c-400c-efb6-5dff1ad54ba2"
      },
      "outputs": [],
      "source": [
        "pcD['cluster'] = best_dict['best_labels']\n",
        "pcD['cluster'].value_counts()"
      ]
    },
    {
      "cell_type": "code",
      "execution_count": null,
      "metadata": {
        "colab": {
          "base_uri": "https://localhost:8080/"
        },
        "id": "Pwh8-OO8Vfdv",
        "outputId": "3ff6789b-968d-4a4d-e7b0-f3d35c049b31"
      },
      "outputs": [],
      "source": [
        "len(set('cluster'))"
      ]
    },
    {
      "cell_type": "markdown",
      "metadata": {
        "id": "24s9NB8f2X0x"
      },
      "source": [
        "## DBSCAN Representation"
      ]
    },
    {
      "cell_type": "code",
      "execution_count": null,
      "metadata": {
        "colab": {
          "base_uri": "https://localhost:8080/",
          "height": 562
        },
        "id": "p-f6wSm6Cf7n",
        "outputId": "94ffa772-4f02-4ce5-dd71-a65a19276290"
      },
      "outputs": [],
      "source": [
        "figdbscan = px.scatter(x=longg, y=lat, color=pcD['cluster'],\n",
        "                 color_continuous_scale=[(0.00, \"red\"),\n",
        "                                         (0.33, \"red\"),\n",
        "                                         (0.33, \"orange\"),\n",
        "                                         (0.66, \"orange\"),\n",
        "                                         (0.66, \"blue\"),\n",
        "                                         (1.00, \"blue\")], size_max=25)\n",
        "\n",
        "figdbscan.update_layout(title={'text':'DBSCAN Cluster Analysis',\n",
        "                            'y':0.95,\n",
        "                            'x':0.5,\n",
        "                            'xanchor': 'center',\n",
        "                            'yanchor': 'top'},\n",
        "                     xaxis_title=\"Longitude\",\n",
        "                     yaxis_title=\"Latitude\")\n",
        "\n",
        "figdbscan.show()"
      ]
    },
    {
      "cell_type": "markdown",
      "metadata": {
        "id": "5OGGBd7A67pL"
      },
      "source": [
        "Silhouette Score for DBSCAN"
      ]
    },
    {
      "cell_type": "code",
      "execution_count": null,
      "metadata": {
        "colab": {
          "base_uri": "https://localhost:8080/"
        },
        "id": "eE9vZbwzEMYr",
        "outputId": "90abc84b-37bd-4fd6-bb0a-d6801aaacff0"
      },
      "outputs": [],
      "source": [
        "ss(X, pcD['cluster'])"
      ]
    },
    {
      "cell_type": "code",
      "execution_count": null,
      "metadata": {
        "id": "-BV5eGg1Egk1"
      },
      "outputs": [],
      "source": [
        "# px.scatter_3d(data_frame=pcD,x=longg, y=lat, z=lpd, color=pcD['cluster'],template='plotly_white',\n",
        "#              title='3D Scatter plot for KMeans Clusters')"
      ]
    },
    {
      "cell_type": "markdown",
      "metadata": {
        "id": "ZhyVcxeQVShF"
      },
      "source": [
        "#### Fim DBSCAN"
      ]
    },
    {
      "cell_type": "markdown",
      "metadata": {
        "id": "abcTe-GSDXZL"
      },
      "source": [
        "# Correlation Analysis"
      ]
    },
    {
      "cell_type": "code",
      "execution_count": null,
      "metadata": {
        "id": "ArpndSIQejte"
      },
      "outputs": [],
      "source": [
        "from collections import defaultdict\n",
        "\n",
        "import matplotlib.pyplot as plt\n",
        "import numpy as np\n",
        "from scipy.stats import spearmanr\n",
        "from scipy.cluster import hierarchy\n",
        "from scipy.spatial.distance import squareform\n",
        "\n",
        "from sklearn.datasets import load_breast_cancer\n",
        "from sklearn.ensemble import RandomForestClassifier\n",
        "from sklearn.inspection import permutation_importance\n",
        "from sklearn.model_selection import train_test_split"
      ]
    },
    {
      "cell_type": "markdown",
      "metadata": {
        "id": "80TbCqDpKWKe"
      },
      "source": [
        "Identificação de variáveis que tiverem correlação maior que p"
      ]
    },
    {
      "cell_type": "code",
      "execution_count": null,
      "metadata": {
        "colab": {
          "base_uri": "https://localhost:8080/",
          "height": 610
        },
        "id": "lEgtl_tpc8qQ",
        "outputId": "cdd06c4a-9417-45bb-b70e-6e168fe35778"
      },
      "outputs": [],
      "source": [
        "plt.figure(figsize=(10, 7))\n",
        "sns.heatmap(pck[['accex_t', 'accey_t', 'accez_t',\n",
        "                 'gyrox_t', 'gyroy_t', 'gyroz_t',\n",
        "                 'climb_t', 'us_lpd_t', 'speed_t']].corr(),\n",
        "            annot = True,\n",
        "            vmax=.5,\n",
        "            fmt = '.2f',\n",
        "            cmap='Blues')\n",
        "plt.title('Correlação entre variáveis')\n",
        "plt.show()"
      ]
    },
    {
      "cell_type": "code",
      "execution_count": null,
      "metadata": {
        "colab": {
          "base_uri": "https://localhost:8080/",
          "height": 684
        },
        "id": "52arnro2ap0P",
        "outputId": "0fdca0fd-97a1-4a50-eabb-8d0960b2d875"
      },
      "outputs": [],
      "source": [
        "from string import ascii_letters\n",
        "sns.set_theme(style=\"white\")\n",
        "\n",
        "# Compute the correlation matrix\n",
        "corr = pck[['accex', 'accey', 'accez',\n",
        "            'gyrox', 'gyroy', 'gyroz',\n",
        "            'climb', 'us_lpd', 'speed']].corr(method = 'spearman')\n",
        "\n",
        "# Generate a mask for the upper triangle\n",
        "mask = np.triu(np.ones_like(corr, dtype=bool))\n",
        "\n",
        "# Set up the matplotlib figure\n",
        "f, ax = plt.subplots(figsize=(11, 9))\n",
        "\n",
        "# Generate a custom diverging colormap\n",
        "cmap = sns.diverging_palette(230, 20, as_cmap=True)\n",
        "\n",
        "# Draw the heatmap with the mask and correct aspect ratio\n",
        "sns.heatmap(corr, mask=mask, cmap=cmap, annot = True, vmax=.5, vmin=-.5, center=0,\n",
        "            square=True, linewidths=.5, cbar_kws={\"shrink\": .8})"
      ]
    },
    {
      "cell_type": "code",
      "execution_count": null,
      "metadata": {
        "colab": {
          "base_uri": "https://localhost:8080/",
          "height": 692
        },
        "id": "oCLulirqTrGW",
        "outputId": "cdb608d4-ac13-47ce-a677-94221242c5c3"
      },
      "outputs": [],
      "source": [
        "sns.set_theme(style=\"white\")\n",
        "\n",
        "# Compute the correlation matrix\n",
        "corr = df.corr()\n",
        "\n",
        "# Generate a mask for the upper triangle\n",
        "mask = np.triu(np.ones_like(corr, dtype=bool))\n",
        "\n",
        "# Set up the matplotlib figure\n",
        "f, ax = plt.subplots(figsize=(11, 9))\n",
        "\n",
        "# Generate a custom diverging colormap\n",
        "cmap = sns.diverging_palette(230, 20, as_cmap=True)\n",
        "\n",
        "# Draw the heatmap with the mask and correct aspect ratio\n",
        "sns.heatmap(corr, mask=mask, cmap=cmap, annot = True, vmax=.5, vmin=-.5, center=0,\n",
        "            square=True, linewidths=.5, cbar_kws={\"shrink\": .8})"
      ]
    },
    {
      "cell_type": "code",
      "execution_count": null,
      "metadata": {
        "colab": {
          "base_uri": "https://localhost:8080/",
          "height": 766
        },
        "id": "Z9ir_AEVaI9L",
        "outputId": "a1b2bfb4-0648-4c06-8188-0ad580a0a3ed"
      },
      "outputs": [],
      "source": [
        "sns.set_theme(style=\"white\")\n",
        "g = sns.PairGrid(pck[['us_lpd', 'speed', 'climb']], diag_sharey=False)\n",
        "g.map_upper(sns.scatterplot, s=15)\n",
        "g.map_lower(sns.kdeplot)\n",
        "g.map_diag(sns.kdeplot, lw=2)"
      ]
    },
    {
      "cell_type": "markdown",
      "metadata": {
        "id": "HGTAcNsxISWq"
      },
      "source": [
        "#Traffic Volume Analysis"
      ]
    },
    {
      "cell_type": "code",
      "execution_count": null,
      "metadata": {
        "id": "250qWBaJIaIl"
      },
      "outputs": [],
      "source": [
        "volume = pd.read_excel('/Users/marcelmello/Developer/MSc/pdc_volume.xlsx')"
      ]
    },
    {
      "cell_type": "code",
      "execution_count": null,
      "metadata": {
        "colab": {
          "base_uri": "https://localhost:8080/",
          "height": 312
        },
        "id": "-_5BNgxIIaGC",
        "outputId": "f94a627e-c23b-48e9-dcf6-bb8c2921e9ea"
      },
      "outputs": [],
      "source": [
        "volume.head()"
      ]
    },
    {
      "cell_type": "code",
      "execution_count": null,
      "metadata": {
        "colab": {
          "base_uri": "https://localhost:8080/"
        },
        "id": "9noROaLvArAX",
        "outputId": "8efa8e59-9cff-4f77-8707-96af0058e007"
      },
      "outputs": [],
      "source": [
        "volume.info()"
      ]
    },
    {
      "cell_type": "code",
      "execution_count": null,
      "metadata": {
        "colab": {
          "base_uri": "https://localhost:8080/",
          "height": 312
        },
        "id": "r4VkDl53QqjT",
        "outputId": "7222a33d-220a-4930-e647-d101c1b8d3dc"
      },
      "outputs": [],
      "source": [
        "volume_t = volume.copy()\n",
        "volume_t.head()"
      ]
    },
    {
      "cell_type": "code",
      "execution_count": null,
      "metadata": {
        "colab": {
          "base_uri": "https://localhost:8080/",
          "height": 405
        },
        "id": "3bjaIiwyP1rC",
        "outputId": "7d26cd6a-7cfc-4d94-a034-63df0e29506d"
      },
      "outputs": [],
      "source": [
        "volume_t.describe()"
      ]
    },
    {
      "cell_type": "code",
      "execution_count": null,
      "metadata": {
        "colab": {
          "base_uri": "https://localhost:8080/",
          "height": 312
        },
        "id": "53R0LiijJPyf",
        "outputId": "a6fda0d3-8e84-4496-8d0d-30639ce88876"
      },
      "outputs": [],
      "source": [
        "scaler = StandardScaler()\n",
        "volume_t[['accey_t', 'climb_t','us_lpd_t','speed_t', 'volume_t']] = scaler.fit_transform(volume_t[['accey',\t'climb',' us_lpd', 'speed',\t'volume']])\n",
        "volume_t.head()"
      ]
    },
    {
      "cell_type": "markdown",
      "metadata": {
        "id": "k1dvHd5X4wdU"
      },
      "source": [
        "Elbow Method for Optimal number of Clusters"
      ]
    },
    {
      "cell_type": "code",
      "execution_count": null,
      "metadata": {
        "colab": {
          "base_uri": "https://localhost:8080/",
          "height": 54
        },
        "id": "kCSz0xTWypyo",
        "outputId": "566da94e-9f34-467f-dc99-3a19157fed29"
      },
      "outputs": [],
      "source": [
        "optimise_k_means(volume_t[['climb_t', 'us_lpd_t', 'speed_t', 'volume_t']], 15)"
      ]
    },
    {
      "cell_type": "code",
      "execution_count": null,
      "metadata": {
        "colab": {
          "base_uri": "https://localhost:8080/",
          "height": 54
        },
        "id": "O6W1w0B2zK1G",
        "outputId": "2982ef4a-6254-4f2d-912a-883609ec32b0"
      },
      "outputs": [],
      "source": [
        "optimise_k_means(volume[['climb', ' us_lpd', 'speed', 'volume']], 15)"
      ]
    },
    {
      "cell_type": "code",
      "execution_count": null,
      "metadata": {
        "colab": {
          "base_uri": "https://localhost:8080/"
        },
        "id": "kCBHCh02qdr6",
        "outputId": "6a1442de-dfcc-4197-c132-151826116800"
      },
      "outputs": [],
      "source": [
        "from sklearn.metrics import silhouette_samples, silhouette_score\n",
        "\n",
        "range_n_clusters = [2, 3, 4, 5, 6, 7, 8, 9, 10, 15, 17]\n",
        "silscore = []\n",
        "X2 = volume_t[[ 'us_lpd_t', 'volume_t']].copy()\n",
        "\n",
        "for n_clusters in range_n_clusters:\n",
        "    clusterer = KMeans(n_clusters=n_clusters, random_state=10)\n",
        "    cluster_labels = clusterer.fit_predict(X2)\n",
        "    silhouette_avg = silhouette_score(X2, cluster_labels)\n",
        "    silscore.append(silhouette_avg)\n",
        "    print(\"For n_clusters =\", n_clusters,\"The average silhouette_score is :\", silhouette_avg)\n",
        "    sample_silhouette_values = silhouette_samples(X2, cluster_labels)"
      ]
    },
    {
      "cell_type": "markdown",
      "metadata": {
        "id": "xStQ8bjJ4tJU"
      },
      "source": [
        "Correlation between features"
      ]
    },
    {
      "cell_type": "code",
      "execution_count": null,
      "metadata": {
        "colab": {
          "base_uri": "https://localhost:8080/",
          "height": 88
        },
        "id": "sCzn9g-tIaDb",
        "outputId": "e25a3f70-153b-4c30-a647-f840dd0bdb99"
      },
      "outputs": [],
      "source": [
        "sns.set_theme(style=\"white\")\n",
        "\n",
        "# Compute the correlation matrix\n",
        "corr = volume[['accey','climb', ' us_lpd', 'speed', 'volume']].corr()\n",
        "\n",
        "# Generate a mask for the upper triangle\n",
        "mask = np.triu(np.ones_like(corr, dtype=bool))\n",
        "\n",
        "# Set up the matplotlib figure\n",
        "f, ax = plt.subplots(figsize=(11, 9))\n",
        "\n",
        "# Generate a custom diverging colormap\n",
        "cmap = sns.diverging_palette(230, 20, as_cmap=True)\n",
        "\n",
        "# Draw the heatmap with the mask and correct aspect ratio\n",
        "sns.heatmap(corr, mask=mask, cmap=cmap, annot = True, vmax=.5, vmin=-.5, center=0,\n",
        "            square=True, linewidths=.5, cbar_kws={\"shrink\": .8})"
      ]
    },
    {
      "cell_type": "code",
      "execution_count": null,
      "metadata": {
        "colab": {
          "base_uri": "https://localhost:8080/"
        },
        "id": "DA3jCTkbpvve",
        "outputId": "b3fd869e-80fd-43a8-ea99-a95e0bb230de"
      },
      "outputs": [],
      "source": [
        "for k in range(2,7):\n",
        "  kmeans=KMeans(n_clusters=k)\n",
        "  kmeans.fit(volume_t[['climb_t', 'us_lpd_t', 'speed_t', 'volume_t']])\n",
        "  volume_t[f'KMeans_{k}'] = kmeans.labels_"
      ]
    },
    {
      "cell_type": "markdown",
      "metadata": {
        "id": "9OPVOUMO4oEg"
      },
      "source": [
        "Clustering Visualization"
      ]
    },
    {
      "cell_type": "code",
      "execution_count": null,
      "metadata": {
        "colab": {
          "base_uri": "https://localhost:8080/",
          "height": 562
        },
        "id": "QchTkZoSIZ99",
        "outputId": "b8bc9b72-b200-4690-c751-043e75945a72"
      },
      "outputs": [],
      "source": [
        "import plotly.express as px\n",
        "fignew = px.scatter(y=volume_t['latitude'], x=volume_t['longitude'], size=volume_t[' us_lpd'], color=volume_t['KMeans_3'], size_max=25)\n",
        "fignew.show()"
      ]
    },
    {
      "cell_type": "markdown",
      "metadata": {
        "id": "CsgMyqOeJlmI"
      },
      "source": [
        "###html converter"
      ]
    },
    {
      "cell_type": "code",
      "execution_count": null,
      "metadata": {
        "colab": {
          "base_uri": "https://localhost:8080/"
        },
        "id": "Vlpgx7AzIZs1",
        "outputId": "77868c31-c836-48e1-a820-ffaff01e88b9"
      },
      "outputs": [],
      "source": [
        "#!pip install nbconvert\n",
        "#%%shell\n",
        "!jupyter nbconvert --to html /content/drive/MyDrive/MSc/MSc_Analysis.ipynb\n",
        "print('Notebook salved in .html file')"
      ]
    }
  ],
  "metadata": {
    "colab": {
      "collapsed_sections": [
        "mNXPSFXYWmR2",
        "rbyt075wLLSF",
        "Cw7zVOLyjKvA",
        "PxtN7BZNlfX4",
        "HGTAcNsxISWq"
      ],
      "provenance": []
    },
    "kernelspec": {
      "display_name": "Python 3",
      "name": "python3"
    },
    "language_info": {
      "codemirror_mode": {
        "name": "ipython",
        "version": 3
      },
      "file_extension": ".py",
      "mimetype": "text/x-python",
      "name": "python",
      "nbconvert_exporter": "python",
      "pygments_lexer": "ipython3",
      "version": "3.7.9"
    }
  },
  "nbformat": 4,
  "nbformat_minor": 0
}
